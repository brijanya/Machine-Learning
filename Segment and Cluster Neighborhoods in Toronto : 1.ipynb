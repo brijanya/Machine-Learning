{
    "cells": [
        {
            "cell_type": "markdown",
            "metadata": {
                "collapsed": true
            },
            "source": "<h1><center>Segmenting and Clustering Neighborhoods in Toronto</center></h1>\n<h3><center>Problem 1</center></h3>\n<h3><center>Scraping Data from Wikipedia</center></h3>"
        },
        {
            "cell_type": "markdown",
            "metadata": {},
            "source": "<h4>The URL to the page on Wikipedia</h4>"
        },
        {
            "cell_type": "code",
            "execution_count": 17,
            "metadata": {},
            "outputs": [],
            "source": "URL = 'https://en.wikipedia.org/wiki/List_of_postal_codes_of_Canada:_M'"
        },
        {
            "cell_type": "markdown",
            "metadata": {},
            "source": "<h4>Import Libraries</h4>"
        },
        {
            "cell_type": "code",
            "execution_count": 42,
            "metadata": {},
            "outputs": [],
            "source": "from bs4 import BeautifulSoup\nimport requests\nimport pandas as pd\nimport re"
        },
        {
            "cell_type": "markdown",
            "metadata": {},
            "source": "<h4>Request page from URL</h4>"
        },
        {
            "cell_type": "code",
            "execution_count": 19,
            "metadata": {},
            "outputs": [],
            "source": "request = requests.get(URL)\nrequest = request.text"
        },
        {
            "cell_type": "markdown",
            "metadata": {},
            "source": "<h4>Create a Beautiful Soup Object and extract tables</h4>"
        },
        {
            "cell_type": "code",
            "execution_count": 20,
            "metadata": {},
            "outputs": [
                {
                    "name": "stdout",
                    "output_type": "stream",
                    "text": "Type : <class 'bs4.element.Tag'>\nLength : 2\n"
                }
            ],
            "source": "soup = BeautifulSoup(request, 'xml')\ntable = soup.find('table')\nprint(f'Type : {type(table)}')\nprint(f'Length : {len(table)}')"
        },
        {
            "cell_type": "markdown",
            "metadata": {},
            "source": "<h4>Extract all the data from the table into python lists</h4>"
        },
        {
            "cell_type": "code",
            "execution_count": 145,
            "metadata": {},
            "outputs": [
                {
                    "name": "stdout",
                    "output_type": "stream",
                    "text": "Length of PostalCode : 180\nLength of Neighborhood : 180\nLength of Borough : 180\n"
                }
            ],
            "source": "# Search all the postcode, borough, neighborhood \nPostalCode = []\nBorough = []\nNeighborhood = []\nfor tr in table.find_all('tr'):\n    for b in tr.find_all('b'):\n        PostalCode.append(b.text)\n    for span in tr.find_all('span'):\n        span = span.text\n        borough = \"\"\n        neigh = re.search('\\((.*?)\\)', span)\n        if neigh is not None:\n            neigh = neigh.group()\n            borough = span.replace(neigh,\"\")\n            neigh = neigh.replace(\"/\", \",\")\n            brackets = ('()') \n            for x in neigh:\n                if x in brackets:\n                    neigh = neigh.replace(x, \"\") \n        else:\n            neigh = 'Not Assigned'\n        if borough is \"\":\n            borough = 'Not Assigned'\n        Borough.append(borough)\n        Neighborhood.append(neigh)\n        \n\nprint(f'Length of PostalCode : {len(PostalCode)}')\nprint(f'Length of Neighborhood : {len(Neighborhood)}')\nprint(f'Length of Borough : {len(Borough)}')"
        },
        {
            "cell_type": "markdown",
            "metadata": {},
            "source": "<h4>Create a pandas Dataframe</h4>"
        },
        {
            "cell_type": "code",
            "execution_count": 146,
            "metadata": {},
            "outputs": [],
            "source": "df = pd.DataFrame({\n    'PostalCode' : PostalCode,\n    'Borough' : Borough,\n    'Neighborhood' : Neighborhood\n})"
        },
        {
            "cell_type": "markdown",
            "metadata": {},
            "source": "<h4>Display first 5 rows of dataframe</h4>"
        },
        {
            "cell_type": "code",
            "execution_count": 140,
            "metadata": {},
            "outputs": [
                {
                    "data": {
                        "text/html": "<div>\n<style scoped>\n    .dataframe tbody tr th:only-of-type {\n        vertical-align: middle;\n    }\n\n    .dataframe tbody tr th {\n        vertical-align: top;\n    }\n\n    .dataframe thead th {\n        text-align: right;\n    }\n</style>\n<table border=\"1\" class=\"dataframe\">\n  <thead>\n    <tr style=\"text-align: right;\">\n      <th></th>\n      <th>PostalCode</th>\n      <th>Borough</th>\n      <th>Neighborhood</th>\n    </tr>\n  </thead>\n  <tbody>\n    <tr>\n      <th>0</th>\n      <td>M1A</td>\n      <td>Not Assigned</td>\n      <td>Not Assigned</td>\n    </tr>\n    <tr>\n      <th>1</th>\n      <td>M2A</td>\n      <td>Not Assigned</td>\n      <td>Not Assigned</td>\n    </tr>\n    <tr>\n      <th>2</th>\n      <td>M3A</td>\n      <td>North York</td>\n      <td>Parkwoods</td>\n    </tr>\n    <tr>\n      <th>3</th>\n      <td>M4A</td>\n      <td>North York</td>\n      <td>Victoria Village</td>\n    </tr>\n    <tr>\n      <th>4</th>\n      <td>M5A</td>\n      <td>Downtown Toronto</td>\n      <td>Regent Park , Harbourfront</td>\n    </tr>\n  </tbody>\n</table>\n</div>",
                        "text/plain": "  PostalCode           Borough                Neighborhood\n0        M1A      Not Assigned                Not Assigned\n1        M2A      Not Assigned                Not Assigned\n2        M3A        North York                   Parkwoods\n3        M4A        North York            Victoria Village\n4        M5A  Downtown Toronto  Regent Park , Harbourfront"
                    },
                    "execution_count": 140,
                    "metadata": {},
                    "output_type": "execute_result"
                }
            ],
            "source": "df.head()"
        },
        {
            "cell_type": "markdown",
            "metadata": {},
            "source": "<h4>Remove all rows with Borough is 'Not Assigned'</h4>"
        },
        {
            "cell_type": "code",
            "execution_count": 141,
            "metadata": {},
            "outputs": [],
            "source": "pbn_df = df[df['Borough'] != 'Not Assigned']"
        },
        {
            "cell_type": "markdown",
            "metadata": {},
            "source": "<h4>Reset Index</h4>"
        },
        {
            "cell_type": "code",
            "execution_count": 147,
            "metadata": {},
            "outputs": [
                {
                    "data": {
                        "text/html": "<div>\n<style scoped>\n    .dataframe tbody tr th:only-of-type {\n        vertical-align: middle;\n    }\n\n    .dataframe tbody tr th {\n        vertical-align: top;\n    }\n\n    .dataframe thead th {\n        text-align: right;\n    }\n</style>\n<table border=\"1\" class=\"dataframe\">\n  <thead>\n    <tr style=\"text-align: right;\">\n      <th></th>\n      <th>PostalCode</th>\n      <th>Borough</th>\n      <th>Neighborhood</th>\n    </tr>\n  </thead>\n  <tbody>\n    <tr>\n      <th>0</th>\n      <td>M3A</td>\n      <td>North York</td>\n      <td>Parkwoods</td>\n    </tr>\n    <tr>\n      <th>1</th>\n      <td>M4A</td>\n      <td>North York</td>\n      <td>Victoria Village</td>\n    </tr>\n    <tr>\n      <th>2</th>\n      <td>M5A</td>\n      <td>Downtown Toronto</td>\n      <td>Regent Park , Harbourfront</td>\n    </tr>\n    <tr>\n      <th>3</th>\n      <td>M6A</td>\n      <td>North York</td>\n      <td>Lawrence Manor , Lawrence Heights</td>\n    </tr>\n    <tr>\n      <th>4</th>\n      <td>M7A</td>\n      <td>Queen's Park</td>\n      <td>Ontario Provincial Government</td>\n    </tr>\n  </tbody>\n</table>\n</div>",
                        "text/plain": "  PostalCode           Borough                       Neighborhood\n0        M3A        North York                          Parkwoods\n1        M4A        North York                   Victoria Village\n2        M5A  Downtown Toronto         Regent Park , Harbourfront\n3        M6A        North York  Lawrence Manor , Lawrence Heights\n4        M7A      Queen's Park      Ontario Provincial Government"
                    },
                    "execution_count": 147,
                    "metadata": {},
                    "output_type": "execute_result"
                }
            ],
            "source": "pbn_df = pbn_df.reset_index(drop=True)\npbn_df.head()"
        },
        {
            "cell_type": "markdown",
            "metadata": {},
            "source": "<h4>Display Shape</h4>"
        },
        {
            "cell_type": "code",
            "execution_count": 144,
            "metadata": {},
            "outputs": [
                {
                    "data": {
                        "text/plain": "(103, 3)"
                    },
                    "execution_count": 144,
                    "metadata": {},
                    "output_type": "execute_result"
                }
            ],
            "source": "pbn_df.shape"
        }
    ],
    "metadata": {
        "kernelspec": {
            "display_name": "Python 3.7",
            "language": "python",
            "name": "python3"
        },
        "language_info": {
            "codemirror_mode": {
                "name": "ipython",
                "version": 3
            },
            "file_extension": ".py",
            "mimetype": "text/x-python",
            "name": "python",
            "nbconvert_exporter": "python",
            "pygments_lexer": "ipython3",
            "version": "3.7.10"
        }
    },
    "nbformat": 4,
    "nbformat_minor": 1
}